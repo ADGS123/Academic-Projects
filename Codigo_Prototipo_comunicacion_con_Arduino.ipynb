{
 "cells": [
  {
   "cell_type": "code",
   "execution_count": 5,
   "id": "5be8d447",
   "metadata": {},
   "outputs": [],
   "source": [
    "import serial\n",
    "import time "
   ]
  },
  {
   "cell_type": "code",
   "execution_count": null,
   "id": "3b909db9",
   "metadata": {},
   "outputs": [],
   "source": [
    "import serial\n",
    "import time\n",
    "\n",
    "# Configura el puerto serial\n",
    "arduino = serial.Serial(port='/dev/ttyACM0', baudrate=9600, timeout=1)  # Cambia '/dev/ttyUSB0' según tu sistema operativo\n",
    "\n",
    "time.sleep(2)  # Espera para que el Arduino esté listo\n",
    "\n",
    "def send_data(data):\n",
    "    arduino.write(data.encode())  # Envía datos como bytes\n",
    "    time.sleep(0.1)  # Breve pausa para asegurarse de que los datos sean enviados\n",
    "    if arduino.in_waiting > 0:  # Verifica si hay una respuesta\n",
    "        response = arduino.readline().decode('utf-8').strip()\n",
    "        print(\"Arduino respondió:\", response)\n",
    "\n",
    "while True:\n",
    "    # Prueba enviando un mensaje\n",
    "    user_input = input(\"Escribe un mensaje para Arduino: \")\n",
    "    if user_input.lower() == \"salir\":\n",
    "        print(\"Cerrando comunicación...\")\n",
    "        break\n",
    "    send_data(user_input)\n",
    "\n",
    "arduino.close()  # Cierra el puerto serial\n",
    "\n",
    "\n"
   ]
  }
 ],
 "metadata": {
  "kernelspec": {
   "display_name": "Python 3 (ipykernel)",
   "language": "python",
   "name": "python3"
  },
  "language_info": {
   "codemirror_mode": {
    "name": "ipython",
    "version": 3
   },
   "file_extension": ".py",
   "mimetype": "text/x-python",
   "name": "python",
   "nbconvert_exporter": "python",
   "pygments_lexer": "ipython3",
   "version": "3.9.1"
  }
 },
 "nbformat": 4,
 "nbformat_minor": 5
}
